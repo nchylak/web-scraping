{
 "cells": [
  {
   "cell_type": "code",
   "execution_count": 2,
   "metadata": {
    "ExecuteTime": {
     "end_time": "2019-04-23T17:26:46.286049Z",
     "start_time": "2019-04-23T17:26:44.498518Z"
    }
   },
   "outputs": [],
   "source": [
    "from bs4 import BeautifulSoup\n",
    "import requests\n",
    "import pandas as pd\n",
    "import numpy as np\n",
    "from datetime import datetime\n",
    "import time\n",
    "import re\n",
    "from tqdm import tqdm\n",
    "\n",
    "from requests.adapters import HTTPAdapter\n",
    "s = requests.Session()\n",
    "s.mount('https://www.jobs.ch', HTTPAdapter(max_retries=10))"
   ]
  },
  {
   "cell_type": "code",
   "execution_count": 3,
   "metadata": {
    "ExecuteTime": {
     "end_time": "2019-04-23T17:26:46.299634Z",
     "start_time": "2019-04-23T17:26:46.289558Z"
    }
   },
   "outputs": [],
   "source": [
    "url_static = \"https://www.jobs.ch\"\n",
    "url_vac = \"/en/vacancies/\"\n",
    "url_page = \"?page=\"\n",
    "url_page_nb = \"1\"\n",
    "url_term = \"&term=\"\n",
    "url_search = \"Tax\" # REPLACE\n",
    "csv_name = \"tax_jobs.csv\" # REPLACE"
   ]
  },
  {
   "cell_type": "markdown",
   "metadata": {},
   "source": [
    "# Get urls of search pages"
   ]
  },
  {
   "cell_type": "code",
   "execution_count": 4,
   "metadata": {
    "ExecuteTime": {
     "end_time": "2019-04-23T17:26:46.369370Z",
     "start_time": "2019-04-23T17:26:46.307590Z"
    }
   },
   "outputs": [
    {
     "data": {
      "text/plain": [
       "'https://www.jobs.ch/en/vacancies/?page=1&term=Tax'"
      ]
     },
     "execution_count": 4,
     "metadata": {},
     "output_type": "execute_result"
    }
   ],
   "source": [
    "url = url_static + url_vac + url_page + url_page_nb + url_term + url_search\n",
    "url"
   ]
  },
  {
   "cell_type": "code",
   "execution_count": 5,
   "metadata": {
    "ExecuteTime": {
     "end_time": "2019-04-23T17:26:47.101454Z",
     "start_time": "2019-04-23T17:26:46.375965Z"
    }
   },
   "outputs": [],
   "source": [
    "response = requests.get(url)\n",
    "parsed_html = BeautifulSoup(response.content, \"html.parser\")"
   ]
  },
  {
   "cell_type": "code",
   "execution_count": 6,
   "metadata": {
    "ExecuteTime": {
     "end_time": "2019-04-23T17:26:47.183575Z",
     "start_time": "2019-04-23T17:26:47.114876Z"
    }
   },
   "outputs": [
    {
     "data": {
      "text/plain": [
       "42"
      ]
     },
     "execution_count": 6,
     "metadata": {},
     "output_type": "execute_result"
    }
   ],
   "source": [
    "parsed_nb_page = parsed_html.find(class_=\"count hidden-sm hidden-md hidden-lg\")\n",
    "nb_page = int(parsed_nb_page.get_text().split()[-1])\n",
    "nb_page"
   ]
  },
  {
   "cell_type": "code",
   "execution_count": 7,
   "metadata": {
    "ExecuteTime": {
     "end_time": "2019-04-23T17:26:47.206886Z",
     "start_time": "2019-04-23T17:26:47.188933Z"
    }
   },
   "outputs": [
    {
     "data": {
      "text/plain": [
       "['https://www.jobs.ch/en/vacancies/?page=1&term=Tax',\n",
       " 'https://www.jobs.ch/en/vacancies/?page=2&term=Tax']"
      ]
     },
     "execution_count": 7,
     "metadata": {},
     "output_type": "execute_result"
    }
   ],
   "source": [
    "pages = []\n",
    "for i in range(1,nb_page+1):\n",
    "    url = url_static + url_vac + url_page + str(i) + url_term + url_search\n",
    "    pages.append(url)\n",
    "pages[:2]"
   ]
  },
  {
   "cell_type": "markdown",
   "metadata": {},
   "source": [
    "# Get urls of vacancies"
   ]
  },
  {
   "cell_type": "code",
   "execution_count": 8,
   "metadata": {
    "ExecuteTime": {
     "end_time": "2019-04-23T17:27:16.582237Z",
     "start_time": "2019-04-23T17:26:47.211555Z"
    }
   },
   "outputs": [
    {
     "name": "stderr",
     "output_type": "stream",
     "text": [
      "100%|██████████| 42/42 [00:29<00:00,  1.53it/s]\n"
     ]
    }
   ],
   "source": [
    "links = []\n",
    "\n",
    "for page in tqdm(pages):\n",
    "    \n",
    "    # Request and parse result page\n",
    "    response = requests.get(page)\n",
    "    parsed_page = BeautifulSoup(response.content, \"html.parser\")\n",
    "    \n",
    "    # Find all job links\n",
    "    parsed_links = parsed_page.find_all(class_=\"x--job-link t--job-link\")\n",
    "    for link in parsed_links:\n",
    "        links.append(url_static+link.attrs[\"href\"])"
   ]
  },
  {
   "cell_type": "code",
   "execution_count": 9,
   "metadata": {
    "ExecuteTime": {
     "end_time": "2019-04-23T17:27:16.629792Z",
     "start_time": "2019-04-23T17:27:16.592748Z"
    },
    "scrolled": false
   },
   "outputs": [
    {
     "data": {
      "text/plain": [
       "['https://www.jobs.ch/en/vacancies/detail/8774245/?source=vacancy_search_promo',\n",
       " 'https://www.jobs.ch/en/vacancies/detail/8858043/?source=vacancy_search_promo']"
      ]
     },
     "execution_count": 9,
     "metadata": {},
     "output_type": "execute_result"
    }
   ],
   "source": [
    "links[:2]"
   ]
  },
  {
   "cell_type": "markdown",
   "metadata": {},
   "source": [
    "# Iterate over vacancies to scrape job details"
   ]
  },
  {
   "cell_type": "code",
   "execution_count": 10,
   "metadata": {
    "ExecuteTime": {
     "end_time": "2019-04-23T17:38:24.681346Z",
     "start_time": "2019-04-23T17:27:16.640465Z"
    }
   },
   "outputs": [
    {
     "name": "stderr",
     "output_type": "stream",
     "text": [
      "100%|██████████| 834/834 [11:07<00:00,  1.53it/s]\n"
     ]
    }
   ],
   "source": [
    "jobs = []\n",
    "\n",
    "for link in tqdm(links):\n",
    "    \n",
    "    # Request and parse job page\n",
    "    response = requests.get(link)\n",
    "    parsed_job = BeautifulSoup(response.content, \"html.parser\")\n",
    "    \n",
    "    #Find items\n",
    "    title = parsed_job.find(class_=\"e-heading vacancy-ad-title h-base x--vacancy-title\").get_text() if parsed_job.find(class_=\"e-heading vacancy-ad-title h-base x--vacancy-title\") else \"None\"\n",
    "    company = parsed_job.find(class_=\"vacancy-ad-company x--vacancy-ad-company\").find(\"span\").get_text() if parsed_job.find(class_=\"vacancy-ad-company x--vacancy-ad-company\") else \"None\"\n",
    "    location = parsed_job.find(class_=\"vacancy-ad-company-location\").get_text() if parsed_job.find(class_=\"vacancy-ad-company-location\") else \"None\"\n",
    "    description = parsed_job.find(class_=\"container vacancy-detail-content\").get_text() if parsed_job.find(class_=\"container vacancy-detail-content\") else \"None\"\n",
    "    original_link = parsed_job.find(class_=\"text-center margin-top-2 margin-top-sm-4 vacancy-detail-original-btn visible-xs\").find(\"a\").attrs[\"href\"] if parsed_job.find(class_=\"text-center margin-top-2 margin-top-sm-4 vacancy-detail-original-btn visible-xs\") else \"None\"\n",
    "    date = parsed_job.find(class_=\"vacancy-ad-date small\").find(\"span\").get_text() if parsed_job.find(class_=\"vacancy-ad-date small\") else \"None\"\n",
    "    \n",
    "    row = {\n",
    "        'title': title,\n",
    "        'company': company,\n",
    "        'location': location,\n",
    "        'description': description,\n",
    "        'link': link,\n",
    "        'original_link': original_link,\n",
    "        'date': date\n",
    "    }\n",
    "    \n",
    "    jobs.append(row)\n",
    "    time.sleep(0.01)"
   ]
  },
  {
   "cell_type": "markdown",
   "metadata": {},
   "source": [
    "# Create a dataframe"
   ]
  },
  {
   "cell_type": "code",
   "execution_count": 11,
   "metadata": {
    "ExecuteTime": {
     "end_time": "2019-04-23T17:38:24.768903Z",
     "start_time": "2019-04-23T17:38:24.682344Z"
    },
    "scrolled": true
   },
   "outputs": [
    {
     "data": {
      "text/html": [
       "<div>\n",
       "<style scoped>\n",
       "    .dataframe tbody tr th:only-of-type {\n",
       "        vertical-align: middle;\n",
       "    }\n",
       "\n",
       "    .dataframe tbody tr th {\n",
       "        vertical-align: top;\n",
       "    }\n",
       "\n",
       "    .dataframe thead th {\n",
       "        text-align: right;\n",
       "    }\n",
       "</style>\n",
       "<table border=\"1\" class=\"dataframe\">\n",
       "  <thead>\n",
       "    <tr style=\"text-align: right;\">\n",
       "      <th></th>\n",
       "      <th>date</th>\n",
       "      <th>title</th>\n",
       "      <th>company</th>\n",
       "      <th>location</th>\n",
       "      <th>description</th>\n",
       "      <th>link</th>\n",
       "      <th>original_link</th>\n",
       "    </tr>\n",
       "  </thead>\n",
       "  <tbody>\n",
       "    <tr>\n",
       "      <th>0</th>\n",
       "      <td>Friday, April 5, 2019</td>\n",
       "      <td>Steuerexpertin / Steuerexperte 60-100%, Bern City</td>\n",
       "      <td>Credit Suisse AG</td>\n",
       "      <td>Bern</td>\n",
       "      <td>Steuerexpertin / Steuerexperte 60-100%, Bern C...</td>\n",
       "      <td>https://www.jobs.ch/en/vacancies/detail/877424...</td>\n",
       "      <td>https://tas-creditsuisse.taleo.net/careersecti...</td>\n",
       "    </tr>\n",
       "    <tr>\n",
       "      <th>1</th>\n",
       "      <td>Monday, April 8, 2019</td>\n",
       "      <td>Treuhänder (m/w) 80 - 100%</td>\n",
       "      <td>BDO AG</td>\n",
       "      <td>Aarau</td>\n",
       "      <td>Werden Sie Teil unseres erfolgreichen Unterneh...</td>\n",
       "      <td>https://www.jobs.ch/en/vacancies/detail/885804...</td>\n",
       "      <td>https://recruitingapp-2789.umantis.com/Vacanci...</td>\n",
       "    </tr>\n",
       "    <tr>\n",
       "      <th>2</th>\n",
       "      <td>Friday, April 5, 2019</td>\n",
       "      <td>Junior Expert - Tax Reporting</td>\n",
       "      <td>Vontobel</td>\n",
       "      <td>Zürich</td>\n",
       "      <td>Junior Expert - Tax ReportingWir bei Vontobel ...</td>\n",
       "      <td>https://www.jobs.ch/en/vacancies/detail/885461...</td>\n",
       "      <td>None</td>\n",
       "    </tr>\n",
       "    <tr>\n",
       "      <th>3</th>\n",
       "      <td>Monday, April 22, 2019</td>\n",
       "      <td>Corporate Tax Manager/in</td>\n",
       "      <td>IVP Ivan Vaccari Personalberatung</td>\n",
       "      <td>Zürich</td>\n",
       "      <td>Unsere Kundin ist eine expandierende Treuhand...</td>\n",
       "      <td>https://www.jobs.ch/en/vacancies/detail/888751...</td>\n",
       "      <td>None</td>\n",
       "    </tr>\n",
       "    <tr>\n",
       "      <th>4</th>\n",
       "      <td>dimanche 21 avril 2019</td>\n",
       "      <td>Operational Senior Tax Expert</td>\n",
       "      <td>SIX</td>\n",
       "      <td>Olten</td>\n",
       "      <td>SIX betreibt die schweizerische Finanzplatzinf...</td>\n",
       "      <td>https://www.jobs.ch/en/vacancies/detail/867074...</td>\n",
       "      <td>https://ohws.prospective.ch/public/v1/jobs/5e2...</td>\n",
       "    </tr>\n",
       "  </tbody>\n",
       "</table>\n",
       "</div>"
      ],
      "text/plain": [
       "                     date                                              title  \\\n",
       "0   Friday, April 5, 2019  Steuerexpertin / Steuerexperte 60-100%, Bern City   \n",
       "1   Monday, April 8, 2019                         Treuhänder (m/w) 80 - 100%   \n",
       "2   Friday, April 5, 2019                      Junior Expert - Tax Reporting   \n",
       "3  Monday, April 22, 2019                           Corporate Tax Manager/in   \n",
       "4  dimanche 21 avril 2019                      Operational Senior Tax Expert   \n",
       "\n",
       "                             company location  \\\n",
       "0                   Credit Suisse AG     Bern   \n",
       "1                             BDO AG    Aarau   \n",
       "2                           Vontobel   Zürich   \n",
       "3  IVP Ivan Vaccari Personalberatung   Zürich   \n",
       "4                                SIX    Olten   \n",
       "\n",
       "                                         description  \\\n",
       "0  Steuerexpertin / Steuerexperte 60-100%, Bern C...   \n",
       "1  Werden Sie Teil unseres erfolgreichen Unterneh...   \n",
       "2  Junior Expert - Tax ReportingWir bei Vontobel ...   \n",
       "3   Unsere Kundin ist eine expandierende Treuhand...   \n",
       "4  SIX betreibt die schweizerische Finanzplatzinf...   \n",
       "\n",
       "                                                link  \\\n",
       "0  https://www.jobs.ch/en/vacancies/detail/877424...   \n",
       "1  https://www.jobs.ch/en/vacancies/detail/885804...   \n",
       "2  https://www.jobs.ch/en/vacancies/detail/885461...   \n",
       "3  https://www.jobs.ch/en/vacancies/detail/888751...   \n",
       "4  https://www.jobs.ch/en/vacancies/detail/867074...   \n",
       "\n",
       "                                       original_link  \n",
       "0  https://tas-creditsuisse.taleo.net/careersecti...  \n",
       "1  https://recruitingapp-2789.umantis.com/Vacanci...  \n",
       "2                                               None  \n",
       "3                                               None  \n",
       "4  https://ohws.prospective.ch/public/v1/jobs/5e2...  "
      ]
     },
     "execution_count": 11,
     "metadata": {},
     "output_type": "execute_result"
    }
   ],
   "source": [
    "jobs_df = pd.DataFrame(jobs)\n",
    "jobs_df = jobs_df[['date','title','company','location','description','link','original_link']]\n",
    "jobs_df.head()"
   ]
  },
  {
   "cell_type": "markdown",
   "metadata": {},
   "source": [
    "# Save to CSV"
   ]
  },
  {
   "cell_type": "code",
   "execution_count": 12,
   "metadata": {
    "ExecuteTime": {
     "end_time": "2019-04-23T17:38:25.133284Z",
     "start_time": "2019-04-23T17:38:24.774063Z"
    }
   },
   "outputs": [],
   "source": [
    "jobs_df.to_csv(csv_name, encoding='utf-8', index=False)"
   ]
  }
 ],
 "metadata": {
  "kernelspec": {
   "display_name": "Python 3",
   "language": "python",
   "name": "python3"
  },
  "language_info": {
   "codemirror_mode": {
    "name": "ipython",
    "version": 3
   },
   "file_extension": ".py",
   "mimetype": "text/x-python",
   "name": "python",
   "nbconvert_exporter": "python",
   "pygments_lexer": "ipython3",
   "version": "3.6.5"
  },
  "toc": {
   "base_numbering": 1,
   "nav_menu": {},
   "number_sections": true,
   "sideBar": true,
   "skip_h1_title": false,
   "title_cell": "Table of Contents",
   "title_sidebar": "Contents",
   "toc_cell": false,
   "toc_position": {},
   "toc_section_display": true,
   "toc_window_display": true
  },
  "varInspector": {
   "cols": {
    "lenName": 16,
    "lenType": 16,
    "lenVar": 40
   },
   "kernels_config": {
    "python": {
     "delete_cmd_postfix": "",
     "delete_cmd_prefix": "del ",
     "library": "var_list.py",
     "varRefreshCmd": "print(var_dic_list())"
    },
    "r": {
     "delete_cmd_postfix": ") ",
     "delete_cmd_prefix": "rm(",
     "library": "var_list.r",
     "varRefreshCmd": "cat(var_dic_list()) "
    }
   },
   "types_to_exclude": [
    "module",
    "function",
    "builtin_function_or_method",
    "instance",
    "_Feature"
   ],
   "window_display": false
  }
 },
 "nbformat": 4,
 "nbformat_minor": 2
}
